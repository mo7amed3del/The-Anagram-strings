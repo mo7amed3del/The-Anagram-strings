{
 "cells": [
  {
   "cell_type": "code",
   "execution_count": 2,
   "id": "7dbed228",
   "metadata": {},
   "outputs": [],
   "source": [
    "#this function is checking if the string is in english language # stack over flow link (https://stackoverflow.com/questions/27084617/detect-strings-with-non-english-characters-in-python) \n",
    "\n",
    "def isEnglish(s): \n",
    "    try: \n",
    "        s.encode(encoding='utf-8').decode('ascii')\n",
    "    except UnicodeDecodeError: \n",
    "        return False \n",
    "    else: \n",
    "        return True"
   ]
  },
  {
   "cell_type": "code",
   "execution_count": 4,
   "id": "e2922bc8",
   "metadata": {},
   "outputs": [
    {
     "name": "stdout",
     "output_type": "stream",
     "text": [
      "False\n"
     ]
    }
   ],
   "source": [
    "def compare(s,t):\n",
    "    assert len(s) >= 1,\"S should not be empty\" \n",
    "    assert len(t) <= 5*10**4, \"T's length should not smaller than 5x10^4\" \n",
    "    assert s.islower() and t.islower(), \"S and T should be lower case\" \n",
    "    assert isEnglish(s) and isEnglish(t) , \"input must be in english\" \n",
    "    #return true if t is an anagram of s \n",
    "    return sorted(s)== sorted(t) \n",
    "    \n",
    "print(compare(s = \"rat\", t = \"car\"))"
   ]
  },
  {
   "cell_type": "code",
   "execution_count": null,
   "id": "f87e3030",
   "metadata": {},
   "outputs": [],
   "source": []
  }
 ],
 "metadata": {
  "kernelspec": {
   "display_name": "Python 3",
   "language": "python",
   "name": "python3"
  },
  "language_info": {
   "codemirror_mode": {
    "name": "ipython",
    "version": 3
   },
   "file_extension": ".py",
   "mimetype": "text/x-python",
   "name": "python",
   "nbconvert_exporter": "python",
   "pygments_lexer": "ipython3",
   "version": "3.7.10"
  }
 },
 "nbformat": 4,
 "nbformat_minor": 5
}
